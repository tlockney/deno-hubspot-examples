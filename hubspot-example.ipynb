{
 "cells": [
  {
   "cell_type": "markdown",
   "metadata": {},
   "source": [
    "# HubSpot Client SDK Example\n",
    "\n",
    "This is just a quick scratchpad for testing our CRM APIs via Deno."
   ]
  },
  {
   "cell_type": "code",
   "execution_count": 1,
   "metadata": {},
   "outputs": [
    {
     "data": {},
     "execution_count": 1,
     "metadata": {},
     "output_type": "execute_result"
    }
   ],
   "source": [
    "// Need to set the 'DENO_TLS_CA_STORE' env var to 'system' to ensure we don't get a\n",
    "// TLS error going through any corporate proxies.\n",
    "Deno.env.set(\"DENO_TLS_CA_STORE\",\"system\");"
   ]
  },
  {
   "cell_type": "markdown",
   "metadata": {},
   "source": [
    "Download the HubSpot JS SDK as well as the dotenv package. Load the `.env` file\n",
    "to get our access token and then create a new client instance with that token."
   ]
  },
  {
   "cell_type": "code",
   "execution_count": 2,
   "metadata": {},
   "outputs": [
    {
     "data": {},
     "execution_count": 2,
     "metadata": {},
     "output_type": "execute_result"
    }
   ],
   "source": [
    "import { Client } from \"npm:@hubspot/api-client\";\n",
    "import * as dotenv from \"https://deno.land/std@0.217.0/dotenv/mod.ts\";\n",
    "\n",
    "const env = await dotenv.load();\n",
    "const access_token = env['HUBSPOT_ACCESS_TOKEN'];\n",
    "\n",
    "const hubspotClient = new Client({ accessToken: access_token });"
   ]
  },
  {
   "cell_type": "markdown",
   "metadata": {},
   "source": [
    "Using our client, download the first few records."
   ]
  },
  {
   "cell_type": "code",
   "execution_count": 3,
   "metadata": {},
   "outputs": [
    {
     "data": {
      "text/plain": [
       "Promise { \u001b[36m<pending>\u001b[39m }"
      ]
     },
     "execution_count": 3,
     "metadata": {},
     "output_type": "execute_result"
    },
    {
     "name": "stdout",
     "output_type": "stream",
     "text": [
      "CollectionResponseSimplePublicObjectWithAssociationsForwardPaging {\n",
      "  results: [\n",
      "    SimplePublicObjectWithAssociations {\n",
      "      createdAt: 2021-07-29T20:39:04.957Z,\n",
      "      archived: false,\n",
      "      id: \"1\",\n",
      "      properties: {\n",
      "        createdate: \"2021-07-29T20:39:04.957Z\",\n",
      "        email: \"emailmaria@hubspot.com\",\n",
      "        firstname: \"Maria\",\n",
      "        hs_object_id: \"1\",\n",
      "        lastmodifieddate: \"2023-09-22T01:04:54.687Z\",\n",
      "        lastname: \"Johnson (Sample Contact)\"\n",
      "      },\n",
      "      updatedAt: 2023-09-22T01:04:54.687Z\n",
      "    },\n",
      "    SimplePublicObjectWithAssociations {\n",
      "      createdAt: 2021-07-29T20:39:05.416Z,\n",
      "      archived: false,\n",
      "      id: \"51\",\n",
      "      properties: {\n",
      "        createdate: \"2021-07-29T20:39:05.416Z\",\n",
      "        email: \"bh@hubspot.com\",\n",
      "        firstname: \"Brian\",\n",
      "        hs_object_id: \"51\",\n",
      "        lastmodifieddate: \"2023-09-22T01:08:52.564Z\",\n",
      "        lastname: \"Halligan (Sample Contact)\"\n",
      "      },\n",
      "      updatedAt: 2023-09-22T01:08:52.564Z\n",
      "    }\n",
      "  ]\n",
      "}\n"
     ]
    }
   ],
   "source": [
    "hubspotClient.crm.contacts.basicApi.getPage(10).then((results) => {\n",
    "\tconsole.log(results);\n",
    "}).catch((err) => {\n",
    "\tconsole.error(err);\n",
    "});"
   ]
  },
  {
   "cell_type": "code",
   "execution_count": null,
   "metadata": {},
   "outputs": [],
   "source": []
  }
 ],
 "metadata": {
  "kernelspec": {
   "display_name": "Deno",
   "language": "typescript",
   "name": "deno"
  },
  "language_info": {
   "file_extension": ".ts",
   "mimetype": "text/x.typescript",
   "name": "typescript",
   "nb_converter": "script",
   "pygments_lexer": "typescript",
   "version": "5.2.2"
  }
 },
 "nbformat": 4,
 "nbformat_minor": 2
}
